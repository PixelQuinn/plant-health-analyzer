{
 "cells": [
  {
   "cell_type": "code",
   "id": "initial_id",
   "metadata": {
    "collapsed": true,
    "ExecuteTime": {
     "end_time": "2024-05-06T17:57:25.137939Z",
     "start_time": "2024-05-06T17:57:25.133524Z"
    }
   },
   "source": [
    "# Import dependencies\n",
    "import cv2\n",
    "import os\n",
    "import matplotlib.pyplot as plt\n",
    "import numpy as np"
   ],
   "outputs": [],
   "execution_count": 23
  },
  {
   "metadata": {
    "ExecuteTime": {
     "end_time": "2024-05-06T16:35:31.346680Z",
     "start_time": "2024-05-06T16:35:31.341914Z"
    }
   },
   "cell_type": "code",
   "source": [
    "# Read photos\n",
    "base_path = '.\\\\data\\\\'  \n",
    "\n",
    "for category in os.listdir(base_path):\n",
    "    category_path = os.path.join(base_path, category)\n",
    "    print(f\"-- Category: {category}\")\n",
    "\n",
    "    for item in os.listdir(category_path):\n",
    "        print(f\"   - {item}\")"
   ],
   "id": "268dd62cdb249153",
   "outputs": [
    {
     "name": "stdout",
     "output_type": "stream",
     "text": [
      "-- Category: diseased\n",
      "   - Apple__black_rot\n",
      "   - Apple__rust\n",
      "   - Apple__scab\n",
      "   - Cassava__bacterial_blight\n",
      "   - Cassava__brown_streak_disease\n",
      "   - Cassava__green_mottle\n",
      "   - Cassava__mosaic_disease\n",
      "   - Cherry__powdery_mildew\n",
      "   - Chili__leaf curl\n",
      "   - Chili__leaf spot\n",
      "   - Chili__whitefly\n",
      "   - Chili__yellowish\n",
      "   - Coffee__cercospora_leaf_spot\n",
      "   - Coffee__red_spider_mite\n",
      "   - Coffee__rust\n",
      "   - Corn__common_rust\n",
      "   - Corn__gray_leaf_spot\n",
      "   - Corn__northern_leaf_blight\n",
      "   - Cucumber__diseased\n",
      "   - Gauva__diseased\n",
      "   - Grape__black_measles\n",
      "   - Grape__black_rot\n",
      "   - Grape__leaf_blight_(isariopsis_leaf_spot)\n",
      "   - Jamun__diseased\n",
      "   - Lemon__diseased\n",
      "   - Mango__diseased\n",
      "   - Peach__bacterial_spot\n",
      "   - Pepper_bell__bacterial_spot\n",
      "   - Pomegranate__diseased\n",
      "   - Potato__early_blight\n",
      "   - Potato__late_blight\n",
      "   - Rice__brown_spot\n",
      "   - Rice__hispa\n",
      "   - Rice__leaf_blast\n",
      "   - Rice__neck_blast\n",
      "   - Soybean__bacterial_blight\n",
      "   - Soybean__caterpillar\n",
      "   - Soybean__diabrotica_speciosa\n",
      "   - Soybean__downy_mildew\n",
      "   - Soybean__mosaic_virus\n",
      "   - Soybean__powdery_mildew\n",
      "   - Soybean__rust\n",
      "   - Soybean__southern_blight\n",
      "   - Strawberry___leaf_scorch\n",
      "   - Sugarcane__bacterial_blight\n",
      "   - Sugarcane__red_rot\n",
      "   - Sugarcane__red_stripe\n",
      "   - Sugarcane__rust\n",
      "   - Tea__algal_leaf\n",
      "   - Tea__anthracnose\n",
      "   - Tea__bird_eye_spot\n",
      "   - Tea__brown_blight\n",
      "   - Tea__red_leaf_spot\n",
      "   - Tomato__bacterial_spot\n",
      "   - Tomato__early_blight\n",
      "   - Tomato__late_blight\n",
      "   - Tomato__leaf_mold\n",
      "   - Tomato__mosaic_virus\n",
      "   - Tomato__septoria_leaf_spot\n",
      "   - Tomato__spider_mites_(two_spotted_spider_mite)\n",
      "   - Tomato__target_spot\n",
      "   - Tomato__yellow_leaf_curl_virus\n",
      "   - Wheat__brown_rust\n",
      "   - Wheat__septoria\n",
      "   - Wheat__yellow_rust\n",
      "-- Category: healthy\n",
      "   - Apple__healthy\n",
      "   - Cassava__healthy\n",
      "   - Cherry__healthy\n",
      "   - Chili__healthy\n",
      "   - Coffee__healthy\n",
      "   - Corn__healthy\n",
      "   - Cucumber__healthy\n",
      "   - Gauva__healthy\n",
      "   - Grape__healthy\n",
      "   - Jamun__healthy\n",
      "   - Lemon__healthy\n",
      "   - Mango__healthy\n",
      "   - Peach__healthy\n",
      "   - Pepper_bell__healthy\n",
      "   - Pomegranate__healthy\n",
      "   - Potato__healthy\n",
      "   - Rice__healthy\n",
      "   - Soybean__healthy\n",
      "   - Strawberry__healthy\n",
      "   - Sugarcane__healthy\n",
      "   - Tea__healthy\n",
      "   - Tomato__healthy\n",
      "   - Wheat__healthy\n"
     ]
    }
   ],
   "execution_count": 3
  },
  {
   "metadata": {},
   "cell_type": "code",
   "outputs": [],
   "execution_count": null,
   "source": "",
   "id": "854fe127166ab32"
  }
 ],
 "metadata": {
  "kernelspec": {
   "display_name": "Python 3",
   "language": "python",
   "name": "python3"
  },
  "language_info": {
   "codemirror_mode": {
    "name": "ipython",
    "version": 2
   },
   "file_extension": ".py",
   "mimetype": "text/x-python",
   "name": "python",
   "nbconvert_exporter": "python",
   "pygments_lexer": "ipython2",
   "version": "2.7.6"
  }
 },
 "nbformat": 4,
 "nbformat_minor": 5
}
